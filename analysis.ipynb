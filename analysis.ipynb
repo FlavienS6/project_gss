{
 "cells": [
  {
   "cell_type": "code",
   "execution_count": 1,
   "id": "6b5325f5-1ca3-4807-817b-579d23abd620",
   "metadata": {
    "tags": []
   },
   "outputs": [
    {
     "name": "stdout",
     "output_type": "stream",
     "text": [
      "--2024-02-27 18:09:04--  https://gss.norc.org/Documents/sas/2022.zip\n",
      "Resolving gss.norc.org (gss.norc.org)... 199.102.80.194\n",
      "Connecting to gss.norc.org (gss.norc.org)|199.102.80.194|:443... connected.\n",
      "HTTP request sent, awaiting response... 200 OK\n",
      "Length: 12288354 (12M) [application/x-zip-compressed]\n",
      "Saving to: ‘2022.zip’\n",
      "\n",
      "2022.zip            100%[===================>]  11.72M  4.50MB/s    in 2.6s    \n",
      "\n",
      "2024-02-27 18:09:07 (4.50 MB/s) - ‘2022.zip’ saved [12288354/12288354]\n",
      "\n"
     ]
    }
   ],
   "source": [
    "! wget https://gss.norc.org/Documents/sas/2022.zip"
   ]
  },
  {
   "cell_type": "code",
   "execution_count": 2,
   "id": "5c149957-ede5-44b0-b808-b0bd0a0e254f",
   "metadata": {
    "tags": []
   },
   "outputs": [
    {
     "name": "stdout",
     "output_type": "stream",
     "text": [
      "Archive:  2022.zip\n",
      "  inflating: 2022 GSS Mode Sensitivity Note v1.pdf  \n",
      "  inflating: formats.sas7bcat        \n",
      "  inflating: GSS 2022 Codebook.pdf   \n",
      "  inflating: gss2022.sas7bdat        \n",
      "  inflating: ReadMe.txt              \n",
      "  inflating: Release Notes 7222.pdf  \n"
     ]
    }
   ],
   "source": [
    "! unzip 2022.zip"
   ]
  },
  {
   "cell_type": "code",
   "execution_count": 3,
   "id": "a0205dc1-011b-4b89-9bc6-8381ca497a39",
   "metadata": {
    "tags": []
   },
   "outputs": [
    {
     "name": "stdout",
     "output_type": "stream",
     "text": [
      "We strongly recommend all users read through the included documentation carefully for very important methodological changes in GSS this round. \n",
      "\n",
      "For reports of and updates on suspected issues in the GSS please visit https://gss.norc.org/Documents/other/Suspected%20Issues%20in%20the%20GSS.pdf \n",
      "\n"
     ]
    }
   ],
   "source": [
    "! cat ReadMe.txt"
   ]
  },
  {
   "cell_type": "code",
   "execution_count": 4,
   "id": "6b3f6f4c-93d9-4f31-8a0e-adc94dad6e42",
   "metadata": {
    "tags": []
   },
   "outputs": [],
   "source": [
    "import pandas as pd\n",
    "df = pd.read_sas(\"gss2022.sas7bdat\")"
   ]
  },
  {
   "cell_type": "code",
   "execution_count": 5,
   "id": "de6665ce-3766-4f0d-833b-6305221a2713",
   "metadata": {
    "tags": []
   },
   "outputs": [
    {
     "data": {
      "text/html": [
       "<div>\n",
       "<style scoped>\n",
       "    .dataframe tbody tr th:only-of-type {\n",
       "        vertical-align: middle;\n",
       "    }\n",
       "\n",
       "    .dataframe tbody tr th {\n",
       "        vertical-align: top;\n",
       "    }\n",
       "\n",
       "    .dataframe thead th {\n",
       "        text-align: right;\n",
       "    }\n",
       "</style>\n",
       "<table border=\"1\" class=\"dataframe\">\n",
       "  <thead>\n",
       "    <tr style=\"text-align: right;\">\n",
       "      <th></th>\n",
       "      <th>YEAR</th>\n",
       "      <th>ID</th>\n",
       "      <th>WRKSTAT</th>\n",
       "      <th>HRS1</th>\n",
       "      <th>HRS2</th>\n",
       "      <th>EVWORK</th>\n",
       "      <th>WRKSLF</th>\n",
       "      <th>OCC10</th>\n",
       "      <th>PRESTG10</th>\n",
       "      <th>INDUS10</th>\n",
       "      <th>...</th>\n",
       "      <th>BABIES_EXP</th>\n",
       "      <th>PRETEEN_EXP</th>\n",
       "      <th>ADULTS_EXP</th>\n",
       "      <th>CHILDS_EXP</th>\n",
       "      <th>CHILDSINHH</th>\n",
       "      <th>ADULTSINHH</th>\n",
       "      <th>WTSSPS_NEA</th>\n",
       "      <th>WTSSNRPS_NEA</th>\n",
       "      <th>WTSSPS_NEXT</th>\n",
       "      <th>WTSSNRPS_NEXT</th>\n",
       "    </tr>\n",
       "  </thead>\n",
       "  <tbody>\n",
       "    <tr>\n",
       "      <th>0</th>\n",
       "      <td>2022.0</td>\n",
       "      <td>1.0</td>\n",
       "      <td>1.0</td>\n",
       "      <td>40.0</td>\n",
       "      <td>NaN</td>\n",
       "      <td>NaN</td>\n",
       "      <td>2.0</td>\n",
       "      <td>430.0</td>\n",
       "      <td>39.0</td>\n",
       "      <td>6290.0</td>\n",
       "      <td>...</td>\n",
       "      <td>NaN</td>\n",
       "      <td>NaN</td>\n",
       "      <td>NaN</td>\n",
       "      <td>NaN</td>\n",
       "      <td>0.0</td>\n",
       "      <td>1.0</td>\n",
       "      <td>NaN</td>\n",
       "      <td>NaN</td>\n",
       "      <td>0.230979</td>\n",
       "      <td>0.267499</td>\n",
       "    </tr>\n",
       "    <tr>\n",
       "      <th>1</th>\n",
       "      <td>2022.0</td>\n",
       "      <td>2.0</td>\n",
       "      <td>5.0</td>\n",
       "      <td>NaN</td>\n",
       "      <td>NaN</td>\n",
       "      <td>1.0</td>\n",
       "      <td>2.0</td>\n",
       "      <td>50.0</td>\n",
       "      <td>53.0</td>\n",
       "      <td>6695.0</td>\n",
       "      <td>...</td>\n",
       "      <td>NaN</td>\n",
       "      <td>NaN</td>\n",
       "      <td>NaN</td>\n",
       "      <td>NaN</td>\n",
       "      <td>0.0</td>\n",
       "      <td>2.0</td>\n",
       "      <td>NaN</td>\n",
       "      <td>NaN</td>\n",
       "      <td>NaN</td>\n",
       "      <td>NaN</td>\n",
       "    </tr>\n",
       "    <tr>\n",
       "      <th>2</th>\n",
       "      <td>2022.0</td>\n",
       "      <td>3.0</td>\n",
       "      <td>1.0</td>\n",
       "      <td>52.0</td>\n",
       "      <td>NaN</td>\n",
       "      <td>NaN</td>\n",
       "      <td>2.0</td>\n",
       "      <td>4610.0</td>\n",
       "      <td>48.0</td>\n",
       "      <td>8290.0</td>\n",
       "      <td>...</td>\n",
       "      <td>0.0</td>\n",
       "      <td>0.0</td>\n",
       "      <td>3.0</td>\n",
       "      <td>0.0</td>\n",
       "      <td>NaN</td>\n",
       "      <td>NaN</td>\n",
       "      <td>NaN</td>\n",
       "      <td>NaN</td>\n",
       "      <td>NaN</td>\n",
       "      <td>NaN</td>\n",
       "    </tr>\n",
       "    <tr>\n",
       "      <th>3</th>\n",
       "      <td>2022.0</td>\n",
       "      <td>4.0</td>\n",
       "      <td>3.0</td>\n",
       "      <td>NaN</td>\n",
       "      <td>25.0</td>\n",
       "      <td>NaN</td>\n",
       "      <td>2.0</td>\n",
       "      <td>4120.0</td>\n",
       "      <td>34.0</td>\n",
       "      <td>8660.0</td>\n",
       "      <td>...</td>\n",
       "      <td>NaN</td>\n",
       "      <td>NaN</td>\n",
       "      <td>NaN</td>\n",
       "      <td>NaN</td>\n",
       "      <td>0.0</td>\n",
       "      <td>3.0</td>\n",
       "      <td>NaN</td>\n",
       "      <td>NaN</td>\n",
       "      <td>0.880743</td>\n",
       "      <td>1.089382</td>\n",
       "    </tr>\n",
       "    <tr>\n",
       "      <th>4</th>\n",
       "      <td>2022.0</td>\n",
       "      <td>5.0</td>\n",
       "      <td>8.0</td>\n",
       "      <td>NaN</td>\n",
       "      <td>NaN</td>\n",
       "      <td>1.0</td>\n",
       "      <td>2.0</td>\n",
       "      <td>7330.0</td>\n",
       "      <td>38.0</td>\n",
       "      <td>3390.0</td>\n",
       "      <td>...</td>\n",
       "      <td>0.0</td>\n",
       "      <td>0.0</td>\n",
       "      <td>3.0</td>\n",
       "      <td>0.0</td>\n",
       "      <td>NaN</td>\n",
       "      <td>NaN</td>\n",
       "      <td>1.704444</td>\n",
       "      <td>3.219778</td>\n",
       "      <td>1.693235</td>\n",
       "      <td>2.121712</td>\n",
       "    </tr>\n",
       "  </tbody>\n",
       "</table>\n",
       "<p>5 rows × 1059 columns</p>\n",
       "</div>"
      ],
      "text/plain": [
       "     YEAR   ID  WRKSTAT  HRS1  HRS2  EVWORK  WRKSLF   OCC10  PRESTG10  \\\n",
       "0  2022.0  1.0      1.0  40.0   NaN     NaN     2.0   430.0      39.0   \n",
       "1  2022.0  2.0      5.0   NaN   NaN     1.0     2.0    50.0      53.0   \n",
       "2  2022.0  3.0      1.0  52.0   NaN     NaN     2.0  4610.0      48.0   \n",
       "3  2022.0  4.0      3.0   NaN  25.0     NaN     2.0  4120.0      34.0   \n",
       "4  2022.0  5.0      8.0   NaN   NaN     1.0     2.0  7330.0      38.0   \n",
       "\n",
       "   INDUS10  ...  BABIES_EXP  PRETEEN_EXP  ADULTS_EXP  CHILDS_EXP  CHILDSINHH  \\\n",
       "0   6290.0  ...         NaN          NaN         NaN         NaN         0.0   \n",
       "1   6695.0  ...         NaN          NaN         NaN         NaN         0.0   \n",
       "2   8290.0  ...         0.0          0.0         3.0         0.0         NaN   \n",
       "3   8660.0  ...         NaN          NaN         NaN         NaN         0.0   \n",
       "4   3390.0  ...         0.0          0.0         3.0         0.0         NaN   \n",
       "\n",
       "   ADULTSINHH  WTSSPS_NEA  WTSSNRPS_NEA  WTSSPS_NEXT  WTSSNRPS_NEXT  \n",
       "0         1.0         NaN           NaN     0.230979       0.267499  \n",
       "1         2.0         NaN           NaN          NaN            NaN  \n",
       "2         NaN         NaN           NaN          NaN            NaN  \n",
       "3         3.0         NaN           NaN     0.880743       1.089382  \n",
       "4         NaN    1.704444      3.219778     1.693235       2.121712  \n",
       "\n",
       "[5 rows x 1059 columns]"
      ]
     },
     "execution_count": 5,
     "metadata": {},
     "output_type": "execute_result"
    }
   ],
   "source": [
    "df.head()"
   ]
  },
  {
   "cell_type": "code",
   "execution_count": 6,
   "id": "84a35088-e935-444f-a071-a5989d65dfe1",
   "metadata": {
    "tags": []
   },
   "outputs": [
    {
     "name": "stdout",
     "output_type": "stream",
     "text": [
      "working\n"
     ]
    }
   ],
   "source": [
    "print(\"working\")"
   ]
  },
  {
   "cell_type": "code",
   "execution_count": 15,
   "id": "a09dcacf-5f34-4041-8149-caf82ccb9414",
   "metadata": {},
   "outputs": [
    {
     "name": "stdout",
     "output_type": "stream",
     "text": [
      "Cloning into 'project_gss'...\n",
      "remote: Enumerating objects: 23, done.\u001b[K\n",
      "remote: Counting objects: 100% (8/8), done.\u001b[K\n",
      "remote: Compressing objects: 100% (7/7), done.\u001b[K\n",
      "remote: Total 23 (delta 6), reused 1 (delta 1), pack-reused 15\u001b[K\n",
      "Receiving objects: 100% (23/23), 23.94 MiB | 36.15 MiB/s, done.\n",
      "Resolving deltas: 100% (6/6), done.\n"
     ]
    }
   ],
   "source": [
    "! git clone "
   ]
  },
  {
   "cell_type": "code",
   "execution_count": 22,
   "id": "db61d44c-58bc-4df9-a9c8-4ba2d390b390",
   "metadata": {
    "tags": []
   },
   "outputs": [],
   "source": [
    "! cd project_gss && git add analysis.ipynb"
   ]
  },
  {
   "cell_type": "code",
   "execution_count": 27,
   "id": "c02c0682-ccd0-4b03-865a-02651957496b",
   "metadata": {
    "tags": []
   },
   "outputs": [
    {
     "name": "stdout",
     "output_type": "stream",
     "text": [
      "Author identity unknown\n",
      "\n",
      "*** Please tell me who you are.\n",
      "\n",
      "Run\n",
      "\n",
      "  git config --global user.email \"you@example.com\"\n",
      "  git config --global user.name \"Your Name\"\n",
      "\n",
      "to set your account's default identity.\n",
      "Omit --global to set the identity only in this repository.\n",
      "\n",
      "fatal: unable to auto-detect email address (got 'nvu5gw@udc-aw34-10c0.(none)')\n"
     ]
    }
   ],
   "source": [
    "! cd project_gss && git commit -am \"added analysis python file\""
   ]
  },
  {
   "cell_type": "code",
   "execution_count": null,
   "id": "cd4af593-35f0-444c-8aad-7a50e4e155ea",
   "metadata": {},
   "outputs": [],
   "source": [
    "! git config --global user.email \"nvu5@example.com\""
   ]
  }
 ],
 "metadata": {
  "kernelspec": {
   "display_name": "PyTorch 2.0.1",
   "language": "python",
   "name": "pytorch-2.0.1"
  },
  "language_info": {
   "codemirror_mode": {
    "name": "ipython",
    "version": 3
   },
   "file_extension": ".py",
   "mimetype": "text/x-python",
   "name": "python",
   "nbconvert_exporter": "python",
   "pygments_lexer": "ipython3",
   "version": "3.10.12"
  }
 },
 "nbformat": 4,
 "nbformat_minor": 5
}
