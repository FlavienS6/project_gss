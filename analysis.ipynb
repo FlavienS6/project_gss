{
 "cells": [
  {
   "cell_type": "code",
   "execution_count": 1,
   "id": "5c149957-ede5-44b0-b808-b0bd0a0e254f",
   "metadata": {
    "tags": []
   },
   "outputs": [
    {
     "name": "stdout",
     "output_type": "stream",
     "text": [
      "--2024-02-29 12:41:26--  https://gss.norc.org/Documents/sas/2022.zip\n",
      "Resolving gss.norc.org (gss.norc.org)... 199.102.80.194\n",
      "Connecting to gss.norc.org (gss.norc.org)|199.102.80.194|:443... connected.\n",
      "HTTP request sent, awaiting response... 200 OK\n",
      "Length: 12288354 (12M) [application/x-zip-compressed]\n",
      "Saving to: ‘2022.zip’\n",
      "\n",
      "2022.zip            100%[===================>]  11.72M  3.98MB/s    in 2.9s    \n",
      "\n",
      "2024-02-29 12:41:30 (3.98 MB/s) - ‘2022.zip’ saved [12288354/12288354]\n",
      "\n",
      "Archive:  2022.zip\n",
      "  inflating: 2022 GSS Mode Sensitivity Note v1.pdf  \n",
      "  inflating: formats.sas7bcat        \n",
      "  inflating: GSS 2022 Codebook.pdf   \n",
      "  inflating: gss2022.sas7bdat        \n",
      "  inflating: ReadMe.txt              \n",
      "  inflating: Release Notes 7222.pdf  \n"
     ]
    }
   ],
   "source": [
    "! mkdir data && cd data && wget https://gss.norc.org/Documents/sas/2022.zip && unzip 2022.zip"
   ]
  },
  {
   "cell_type": "code",
   "execution_count": 3,
   "id": "6b3f6f4c-93d9-4f31-8a0e-adc94dad6e42",
   "metadata": {
    "tags": []
   },
   "outputs": [],
   "source": [
    "#importing the data\n",
    "import pandas as pd\n",
    "df = pd.read_sas(\"data/gss2022.sas7bdat\")"
   ]
  },
  {
   "cell_type": "code",
   "execution_count": 4,
   "id": "de6665ce-3766-4f0d-833b-6305221a2713",
   "metadata": {
    "tags": []
   },
   "outputs": [
    {
     "name": "stdout",
     "output_type": "stream",
     "text": [
      "     YEAR   ID  WRKSTAT  HRS1  HRS2  EVWORK  WRKSLF   OCC10  PRESTG10  \\\n",
      "0  2022.0  1.0      1.0  40.0   NaN     NaN     2.0   430.0      39.0   \n",
      "1  2022.0  2.0      5.0   NaN   NaN     1.0     2.0    50.0      53.0   \n",
      "2  2022.0  3.0      1.0  52.0   NaN     NaN     2.0  4610.0      48.0   \n",
      "3  2022.0  4.0      3.0   NaN  25.0     NaN     2.0  4120.0      34.0   \n",
      "4  2022.0  5.0      8.0   NaN   NaN     1.0     2.0  7330.0      38.0   \n",
      "\n",
      "   INDUS10  ...  BABIES_EXP  PRETEEN_EXP  ADULTS_EXP  CHILDS_EXP  CHILDSINHH  \\\n",
      "0   6290.0  ...         NaN          NaN         NaN         NaN         0.0   \n",
      "1   6695.0  ...         NaN          NaN         NaN         NaN         0.0   \n",
      "2   8290.0  ...         0.0          0.0         3.0         0.0         NaN   \n",
      "3   8660.0  ...         NaN          NaN         NaN         NaN         0.0   \n",
      "4   3390.0  ...         0.0          0.0         3.0         0.0         NaN   \n",
      "\n",
      "   ADULTSINHH  WTSSPS_NEA  WTSSNRPS_NEA  WTSSPS_NEXT  WTSSNRPS_NEXT  \n",
      "0         1.0         NaN           NaN     0.230979       0.267499  \n",
      "1         2.0         NaN           NaN          NaN            NaN  \n",
      "2         NaN         NaN           NaN          NaN            NaN  \n",
      "3         3.0         NaN           NaN     0.880743       1.089382  \n",
      "4         NaN    1.704444      3.219778     1.693235       2.121712  \n",
      "\n",
      "[5 rows x 1059 columns]\n",
      "         YEAR           ID      WRKSTAT         HRS1       HRS2       EVWORK  \\\n",
      "count  3544.0  3544.000000  3537.000000  1938.000000  85.000000  1324.000000   \n",
      "mean   2022.0  1772.535553     3.133446    40.181631  41.235294     1.085347   \n",
      "std       0.0  1023.268418     2.361612    14.107341  13.448001     0.279504   \n",
      "min    2022.0     1.000000     1.000000     0.000000   1.000000     1.000000   \n",
      "25%    2022.0   886.750000     1.000000    37.000000  40.000000     1.000000   \n",
      "50%    2022.0  1772.500000     2.000000    40.000000  40.000000     1.000000   \n",
      "75%    2022.0  2658.250000     5.000000    45.000000  50.000000     1.000000   \n",
      "max    2022.0  3545.000000     8.000000    89.000000  80.000000     2.000000   \n",
      "\n",
      "            WRKSLF        OCC10     PRESTG10      INDUS10  ...   BABIES_EXP  \\\n",
      "count  3406.000000  3323.000000  3326.000000  3322.000000  ...  1739.000000   \n",
      "mean      1.884615  4144.341860    44.924835  6378.553883  ...     0.245543   \n",
      "std       0.319532  2595.093779    13.571545  2672.083901  ...     0.641916   \n",
      "min       1.000000    10.000000    16.000000   170.000000  ...     0.000000   \n",
      "25%       2.000000  2200.000000    35.000000  4970.000000  ...     0.000000   \n",
      "50%       2.000000  4200.000000    45.000000  7390.000000  ...     0.000000   \n",
      "75%       2.000000  5700.000000    54.000000  8190.000000  ...     0.000000   \n",
      "max       2.000000  9830.000000    80.000000  9870.000000  ...     5.000000   \n",
      "\n",
      "       PRETEEN_EXP   ADULTS_EXP   CHILDS_EXP   CHILDSINHH   ADULTSINHH  \\\n",
      "count  1735.000000  1717.000000  1742.000000  1768.000000  1755.000000   \n",
      "mean      0.213833     1.807804     0.609644     0.464932     1.847863   \n",
      "std       0.543212     0.882548     1.124261     0.982537     0.874828   \n",
      "min       0.000000     1.000000     0.000000     0.000000     1.000000   \n",
      "25%       0.000000     1.000000     0.000000     0.000000     1.000000   \n",
      "50%       0.000000     2.000000     0.000000     0.000000     2.000000   \n",
      "75%       0.000000     2.000000     1.000000     0.000000     2.000000   \n",
      "max       3.000000     9.000000     8.000000     8.000000     6.000000   \n",
      "\n",
      "       WTSSPS_NEA  WTSSNRPS_NEA  WTSSPS_NEXT  WTSSNRPS_NEXT  \n",
      "count  843.000000    843.000000  1235.000000    1235.000000  \n",
      "mean     1.000000      1.000000     1.000000       1.000000  \n",
      "std      1.252159      1.251813     1.266347       1.180530  \n",
      "min      0.112206      0.049729     0.106381       0.090816  \n",
      "25%      0.364248      0.307250     0.358660       0.339571  \n",
      "50%      0.628251      0.570879     0.598251       0.602136  \n",
      "75%      1.188035      1.169048     1.089063       1.207341  \n",
      "max     17.815383     16.167341    14.499165      13.168541  \n",
      "\n",
      "[8 rows x 1059 columns]\n"
     ]
    }
   ],
   "source": [
    "#Looking at the data\n",
    "print(df.head())\n",
    "print(df.describe())"
   ]
  },
  {
   "cell_type": "code",
   "execution_count": 5,
   "id": "84a35088-e935-444f-a071-a5989d65dfe1",
   "metadata": {
    "tags": []
   },
   "outputs": [
    {
     "name": "stdout",
     "output_type": "stream",
     "text": [
      "(3544, 4)\n",
      "    ID  PRESTG10  RLOOKS  OWNGUN\n",
      "0  1.0      39.0     3.0     2.0\n",
      "1  2.0      53.0     NaN     2.0\n",
      "2  3.0      48.0     NaN     2.0\n",
      "3  4.0      34.0     NaN     2.0\n",
      "4  5.0      38.0     NaN     2.0\n",
      "                ID     PRESTG10       RLOOKS       OWNGUN\n",
      "count  3544.000000  3326.000000  1672.000000  2313.000000\n",
      "mean   1772.535553    44.924835     3.327751     1.691310\n",
      "std    1023.268418    13.571545     0.787542     0.501553\n",
      "min       1.000000    16.000000     1.000000     1.000000\n",
      "25%     886.750000    35.000000     3.000000     1.000000\n",
      "50%    1772.500000    45.000000     3.000000     2.000000\n",
      "75%    2658.250000    54.000000     4.000000     2.000000\n",
      "max    3545.000000    80.000000     5.000000     3.000000\n"
     ]
    }
   ],
   "source": [
    "#Getting only the variables we care about from dataframe into interested dataframe\n",
    "idf = df[['ID','PRESTG10','RLOOKS','OWNGUN']]\n",
    "print(idf.shape)\n",
    "print(idf.head())\n",
    "print(idf.describe())"
   ]
  },
  {
   "cell_type": "code",
   "execution_count": 6,
   "id": "f34d3e7d-08a6-4767-a8d9-10a974f17dc9",
   "metadata": {
    "tags": []
   },
   "outputs": [],
   "source": [
    "#DATAFRAME FOR GRAPH #1, THE PRESTIGE BOX PLOTS PER ATTRACTIVENESS LEVEL\n",
    "padf = idf[['PRESTG10','RLOOKS']]\n",
    "#Do data cleaning, then create the graph on the padf dataframe. Insert cells below this one when you're working on it. "
   ]
  },
  {
   "cell_type": "code",
   "execution_count": 7,
   "id": "592dd103-40c9-478f-b8bf-d66b2a449b2d",
   "metadata": {
    "tags": []
   },
   "outputs": [],
   "source": [
    "#DATAFRAME FOR GRAPH #2, THE GUN OWNERSHIP % PER ATTRACTIVENESS LEVEL\n",
    "agdf = idf[['RLOOKS','OWNGUN']]\n",
    "#Do data cleaning, then create the graph on the agdf dataframe. Insert cells below this one when you're working on it. "
   ]
  },
  {
   "cell_type": "code",
   "execution_count": 10,
   "id": "3a5eb08d-235d-4384-bdeb-221e3df59f7b",
   "metadata": {
    "tags": []
   },
   "outputs": [],
   "source": [
    "#DATAFRAME FOR GRAPH #3, THE PRESTIGE DISTRIBUTION GRAPH BY GUN OWNERSHIP\n",
    "pgdf = idf[['PRESTG10','OWNGUN']]"
   ]
  },
  {
   "cell_type": "code",
   "execution_count": 21,
   "id": "e29bd4f2-6180-4e1a-bd87-2ec76dc3cdb5",
   "metadata": {},
   "outputs": [
    {
     "name": "stdout",
     "output_type": "stream",
     "text": [
      "35.0    222\n",
      "31.0    190\n",
      "48.0    168\n",
      "38.0    151\n",
      "61.0    134\n",
      "64.0    126\n",
      "39.0    123\n",
      "47.0    120\n",
      "45.0    118\n",
      "53.0    116\n",
      "28.0    115\n",
      "60.0    114\n",
      "25.0     99\n",
      "50.0     85\n",
      "32.0     79\n",
      "44.0     75\n",
      "49.0     73\n",
      "46.0     67\n",
      "33.0     66\n",
      "51.0     66\n",
      "24.0     62\n",
      "36.0     59\n",
      "65.0     54\n",
      "43.0     52\n",
      "59.0     47\n",
      "42.0     46\n",
      "34.0     45\n",
      "37.0     41\n",
      "62.0     38\n",
      "69.0     38\n",
      "21.0     36\n",
      "40.0     36\n",
      "63.0     35\n",
      "72.0     34\n",
      "52.0     34\n",
      "55.0     28\n",
      "74.0     28\n",
      "54.0     27\n",
      "29.0     26\n",
      "41.0     23\n",
      "80.0     21\n",
      "22.0     21\n",
      "70.0     19\n",
      "66.0     17\n",
      "58.0     17\n",
      "27.0     17\n",
      "73.0     15\n",
      "26.0     15\n",
      "56.0     14\n",
      "57.0     11\n",
      "17.0     11\n",
      "30.0      9\n",
      "67.0      9\n",
      "75.0      8\n",
      "71.0      7\n",
      "16.0      6\n",
      "20.0      5\n",
      "18.0      5\n",
      "68.0      2\n",
      "23.0      1\n",
      "Name: PRESTG10, dtype: int64\n",
      "2.0    1511\n",
      "1.0     758\n",
      "3.0      44\n",
      "Name: OWNGUN, dtype: int64\n"
     ]
    }
   ],
   "source": [
    "#looking at the range of variables for each type\n",
    "print(pgdf['PRESTG10'].value_counts())\n",
    "print(pgdf['OWNGUN'].value_counts())\n",
    "#looking back at the codebook, we know that PRESTG10 is that when the respondents had to rate the prestige of their job out of 100\n",
    "#we can also know that OWNGUN variable 1 means yes, 2 means no, and 3 means no response"
   ]
  },
  {
   "cell_type": "code",
   "execution_count": 20,
   "id": "a7011864-f34f-4d74-bfd3-ca1eabecba39",
   "metadata": {},
   "outputs": [
    {
     "name": "stdout",
     "output_type": "stream",
     "text": [
      "(3544, 2)\n",
      "218\n",
      "1231\n"
     ]
    }
   ],
   "source": [
    "#checking out the number of null values for each column.\n",
    "print(pgdf.shape)\n",
    "print(pgdf['PRESTG10'].isnull().sum())\n",
    "print(pgdf['OWNGUN'].isnull().sum())\n",
    "#not a lot of nulls for PRESTG10, but a lot of them for gun ownership. "
   ]
  },
  {
   "cell_type": "code",
   "execution_count": 38,
   "id": "0dbdb704-4266-4696-9f1e-8863791928eb",
   "metadata": {
    "tags": []
   },
   "outputs": [],
   "source": [
    "#Since we can't extrapolate & replace null values from other variables, we're just going to drop every row that is either null, or didn't respond on OWNGUN\n",
    "pgdf.dropna(subset=['PRESTG10'], inplace=True)\n",
    "pgdf.dropna(subset=['OWNGUN'], inplace=True)\n",
    "pgdf = pgdf[~(pgdf['OWNGUN'] == 3)]\n",
    "#While we're at it, we'll replace 1 & 2 in OWNGUN with True and False. Easier for the reader to understand. \n",
    "pgdf['Gun_Owner'] = pgdf['OWNGUN'].map({1: True, 2: False})"
   ]
  },
  {
   "cell_type": "code",
   "execution_count": 39,
   "id": "d6e76a85-a75a-4b95-9f6b-552bb54483ca",
   "metadata": {
    "tags": []
   },
   "outputs": [
    {
     "name": "stdout",
     "output_type": "stream",
     "text": [
      "(2134, 3)\n",
      "0\n",
      "0\n"
     ]
    }
   ],
   "source": [
    "#checking the results of our cleaning... still have a good majority of our rows left. \n",
    "print(pgdf.shape)\n",
    "print(pgdf['PRESTG10'].isnull().sum())\n",
    "print(pgdf['OWNGUN'].isnull().sum())"
   ]
  },
  {
   "cell_type": "code",
   "execution_count": 43,
   "id": "296f0447-2855-45e4-8514-6d1ba67f056f",
   "metadata": {
    "tags": []
   },
   "outputs": [
    {
     "data": {
      "image/png": "[encoded data removed]",
      "text/plain": [
       "<Figure size 640x480 with 1 Axes>"
      ]
     },
     "metadata": {},
     "output_type": "display_data"
    }
   ],
   "source": [
    "#actually creating the graph\n",
    "import seaborn as sns\n",
    "import matplotlib.pyplot as plt\n",
    "#plots both histogram & kernel density\n",
    "sns.histplot(data=pgdf, x='PRESTG10', hue='Gun_Owner', multiple='layer', kde=True)\n",
    "\n",
    "plt.xlabel('Self-Reported Job Prestige')\n",
    "plt.ylabel('Frequency')\n",
    "plt.title('Distribution of Job Prestige by Gun Ownership')\n",
    "\n",
    "# Show the plot\n",
    "plt.show()"
   ]
  },
  {
   "cell_type": "code",
   "execution_count": null,
   "id": "216ef0ed-6694-48c8-99fb-b0bbd33c2f18",
   "metadata": {},
   "outputs": [],
   "source": [
    "# We can see very similar shapes in the kernel density distribution, with the same peaks and valleys in frequencyof job prestige for both gun owners and non gun owners. \n",
    "#We can also see that there are a lot more non gun owners than gun owners: almost twice as many non gun owners for every gun owner at every level of job prestige. "
   ]
  }
 ],
 "metadata": {
  "kernelspec": {
   "display_name": "PyTorch 2.0.1",
   "language": "python",
   "name": "pytorch-2.0.1"
  },
  "language_info": {
   "codemirror_mode": {
    "name": "ipython",
    "version": 3
   },
   "file_extension": ".py",
   "mimetype": "text/x-python",
   "name": "python",
   "nbconvert_exporter": "python",
   "pygments_lexer": "ipython3",
   "version": "3.10.12"
  }
 },
 "nbformat": 4,
 "nbformat_minor": 5
}
